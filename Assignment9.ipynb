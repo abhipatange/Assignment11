{
 "cells": [
  {
   "cell_type": "code",
   "execution_count": null,
   "id": "e35431d1-0202-4cd1-af42-a7b929039d46",
   "metadata": {},
   "outputs": [],
   "source": [
    "Q1. What is a projection and how is it used in PCA?"
   ]
  },
  {
   "cell_type": "code",
   "execution_count": null,
   "id": "2d022397-b75d-46b2-b71c-63aa275468b7",
   "metadata": {},
   "outputs": [],
   "source": [
    "Ans =Projection Data\n",
    "The last step of PCA is we need to multiply Q tranpose of Q with the original data matrix\n",
    "in order to get the projection matrix. We go from the (d x k) Q matrix and Q transpose of Q results\n",
    "in d x d dimension. By multiplying the (d x n) X matrix, the projection matrix is d x n."
   ]
  },
  {
   "cell_type": "code",
   "execution_count": null,
   "id": "77a8c4d0-449a-46c2-bded-68e24e549a73",
   "metadata": {},
   "outputs": [],
   "source": []
  },
  {
   "cell_type": "code",
   "execution_count": null,
   "id": "bb7a1528-601d-4df2-b389-8f9519ab793c",
   "metadata": {},
   "outputs": [],
   "source": [
    "Q2. How does the optimization problem in PCA work, and what is it trying to achieve?"
   ]
  },
  {
   "cell_type": "code",
   "execution_count": null,
   "id": "0cb0c9d3-9996-4e17-8468-62e1a7feec4f",
   "metadata": {},
   "outputs": [],
   "source": [
    "Ans = PCA seeks to solve a sequence of optimization problems.\n",
    "The first in the sequence is the unconstrained problem maximizeuTSuuTu,u∈Rp.\n",
    "Since uTu=‖u‖22=‖u‖‖u‖,\n",
    "the above unconstrained problem is equivalent to the constrained problem maximizeuTSusubject touTu=1."
   ]
  },
  {
   "cell_type": "code",
   "execution_count": null,
   "id": "424b55ae-df89-416a-b6a4-9f43c22feac0",
   "metadata": {},
   "outputs": [],
   "source": []
  },
  {
   "cell_type": "code",
   "execution_count": null,
   "id": "bd3d5f7f-7535-4b2a-ad03-392258ac05ad",
   "metadata": {},
   "outputs": [],
   "source": [
    "Q3. What is the relationship between covariance matrices and PCA?"
   ]
  },
  {
   "cell_type": "code",
   "execution_count": null,
   "id": "0fc560d8-a019-4541-8c0d-2f974e285a25",
   "metadata": {},
   "outputs": [],
   "source": [
    "Ans = PCA Using Correlation Matrix\n",
    "Using the correlation matrix is equivalent to using the covariance matrix of the standardized data,\n",
    "which refers to the data with scaled variables having the means of 0s and standard deviations of 1s."
   ]
  },
  {
   "cell_type": "code",
   "execution_count": null,
   "id": "c044849d-4288-42da-bc76-0a4220539751",
   "metadata": {},
   "outputs": [],
   "source": []
  },
  {
   "cell_type": "code",
   "execution_count": null,
   "id": "46ced2b8-a85b-418b-930c-d58fdb2bd0ae",
   "metadata": {},
   "outputs": [],
   "source": [
    "Q4. How does the choice of number of principal components impact the performance of PCA?"
   ]
  },
  {
   "cell_type": "code",
   "execution_count": null,
   "id": "c0c99740-fc2d-4bf7-a6f9-4a621c52fd51",
   "metadata": {},
   "outputs": [],
   "source": [
    "Ans = PCA helps us to identify patterns in data based on the correlation between features.\n",
    "In a nutshell, PCA aims to find the directions of maximum variance in high-dimensional data \n",
    "and projects it onto a new subspace with equal or fewer dimensions than the original one."
   ]
  },
  {
   "cell_type": "code",
   "execution_count": null,
   "id": "5f66a479-d2d1-4f38-a516-c06b5b2fed13",
   "metadata": {},
   "outputs": [],
   "source": []
  },
  {
   "cell_type": "code",
   "execution_count": null,
   "id": "a7ff26da-8567-4377-94e8-c5d1210c0208",
   "metadata": {},
   "outputs": [],
   "source": [
    "Q5. How can PCA be used in feature selection, and what are the benefits of using it for this purpose?"
   ]
  },
  {
   "cell_type": "code",
   "execution_count": null,
   "id": "f3de3f24-80a8-4060-aa74-51cc531d272e",
   "metadata": {},
   "outputs": [],
   "source": [
    "Ans = Feature extraction: PCA can be used to identify the most important features in a dataset,\n",
    "which can be used to build predictive models.\n",
    "Visualization: PCA can be used to visualize high-dimensional data in two or three dimensions,\n",
    "making it easier to understand and interpret."
   ]
  },
  {
   "cell_type": "code",
   "execution_count": null,
   "id": "6c61dece-17bb-4eec-afc4-9da40fb746b0",
   "metadata": {},
   "outputs": [],
   "source": []
  },
  {
   "cell_type": "code",
   "execution_count": null,
   "id": "3256aa84-0b98-4a65-9181-522e3eae3d42",
   "metadata": {},
   "outputs": [],
   "source": [
    "Q6. What are some common applications of PCA in data science and machine learning?"
   ]
  },
  {
   "cell_type": "code",
   "execution_count": null,
   "id": "296a2a1a-95d8-44c3-9b79-a3274ceae3d1",
   "metadata": {},
   "outputs": [],
   "source": [
    "Ans = PCA is used to visualize multidimensional data.\n",
    "It is used to reduce the number of dimensions in healthcare data.\n",
    "PCA can help resize an image.\n",
    "It can be used in finance to analyze stock data and forecast returns.\n",
    "PCA helps to find patterns in the high-dimensional datasets."
   ]
  },
  {
   "cell_type": "code",
   "execution_count": null,
   "id": "38673a84-57fa-4961-8955-b3f4db0934b9",
   "metadata": {},
   "outputs": [],
   "source": []
  },
  {
   "cell_type": "code",
   "execution_count": null,
   "id": "121ab9e5-389d-4f81-ad80-6a545e799dd2",
   "metadata": {},
   "outputs": [],
   "source": [
    "Q7.What is the relationship between spread and variance in PCA?"
   ]
  },
  {
   "cell_type": "code",
   "execution_count": null,
   "id": "8202f173-f03e-43f3-9a62-ed27a9d47983",
   "metadata": {},
   "outputs": [],
   "source": [
    "Ans = The variance explained can be understood as the ratio of the vertical spread of the regression line\n",
    "(i.e., from the lowest point on the line to the highest point on the line) to the vertical spread of the data."
   ]
  },
  {
   "cell_type": "code",
   "execution_count": null,
   "id": "4561e0d9-63dc-40c3-9c0c-f7a7f1e168e0",
   "metadata": {},
   "outputs": [],
   "source": []
  },
  {
   "cell_type": "code",
   "execution_count": null,
   "id": "32d60c77-0823-4543-b538-95fcc1ee18fc",
   "metadata": {},
   "outputs": [],
   "source": [
    "Q8. How does PCA use the spread and variance of the data to identify principal components?"
   ]
  },
  {
   "cell_type": "code",
   "execution_count": null,
   "id": "66e4a0d0-0587-4770-a9cf-a15ce7f7baa8",
   "metadata": {},
   "outputs": [],
   "source": [
    "Ans = PCA works by finding the directions of maximum variance in the data set and projecting \n",
    "the data onto these directions. The principal components are ordered by the amount of\n",
    "variance they explain and are used for feature selection, data compression, clustering, and classification."
   ]
  },
  {
   "cell_type": "code",
   "execution_count": null,
   "id": "f2fdb1bc-7d1b-4e40-8513-0c4e7825ac17",
   "metadata": {},
   "outputs": [],
   "source": []
  },
  {
   "cell_type": "code",
   "execution_count": null,
   "id": "b5ccbb80-b733-46bb-aa38-36b8fe36a677",
   "metadata": {},
   "outputs": [],
   "source": [
    "Q9. How does PCA handle data with high variance in some dimensions but low variance in others?"
   ]
  },
  {
   "cell_type": "code",
   "execution_count": null,
   "id": "11261dd6-1cb3-4ace-8328-dae20e829853",
   "metadata": {},
   "outputs": [],
   "source": [
    "Ans = PCA can be used to significantly reduce dimensionality of highly non-linear dataset because it can\n",
    "at least get rid of useless dimensions. \n",
    "If there are no useless dimensions, reducing dimensionality with PCA will lose too much information."
   ]
  },
  {
   "cell_type": "code",
   "execution_count": null,
   "id": "ec45a0fb-245d-4a58-b76c-64c44e85a8e0",
   "metadata": {},
   "outputs": [],
   "source": []
  },
  {
   "cell_type": "code",
   "execution_count": null,
   "id": "8d0535e2-9fbb-4a9d-9aef-cf18333faa9a",
   "metadata": {},
   "outputs": [],
   "source": []
  }
 ],
 "metadata": {
  "kernelspec": {
   "display_name": "Python 3 (ipykernel)",
   "language": "python",
   "name": "python3"
  },
  "language_info": {
   "codemirror_mode": {
    "name": "ipython",
    "version": 3
   },
   "file_extension": ".py",
   "mimetype": "text/x-python",
   "name": "python",
   "nbconvert_exporter": "python",
   "pygments_lexer": "ipython3",
   "version": "3.10.8"
  }
 },
 "nbformat": 4,
 "nbformat_minor": 5
}
